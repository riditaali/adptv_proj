{
 "cells": [
  {
   "cell_type": "code",
   "execution_count": null,
   "id": "b5ddf2e3",
   "metadata": {},
   "outputs": [],
   "source": [
    "from pydub import AudioSegment\n",
    "from pydub.utils import make_chunks"
   ]
  },
  {
   "cell_type": "code",
   "execution_count": null,
   "id": "78beca89",
   "metadata": {},
   "outputs": [],
   "source": [
    "myaudio = AudioSegment.from_file(\"example1.wav\", \"wav\")"
   ]
  },
  {
   "cell_type": "code",
   "execution_count": null,
   "id": "744cb5f4",
   "metadata": {},
   "outputs": [],
   "source": [
    "chunk_length_ms = 3000"
   ]
  },
  {
   "cell_type": "code",
   "execution_count": null,
   "id": "cc054d46",
   "metadata": {},
   "outputs": [],
   "source": [
    "chunks = make_chunks(myaudio, chunk_length_ms)"
   ]
  },
  {
   "cell_type": "code",
   "execution_count": null,
   "id": "fc97c003",
   "metadata": {},
   "outputs": [],
   "source": [
    "for i, chunk in enumerate(chunks):\n",
    "    chunk_name = \"{0}.wav\".format(i)\n",
    "    print(\"exporting\", chunk_name)\n",
    "    chunk.export(chunk_name, format=\"wav\")"
   ]
  },
  {
   "cell_type": "code",
   "execution_count": null,
   "id": "0b929197",
   "metadata": {},
   "outputs": [],
   "source": []
  }
 ],
 "metadata": {
  "kernelspec": {
   "display_name": "Python 3 (ipykernel)",
   "language": "python",
   "name": "python3"
  },
  "language_info": {
   "codemirror_mode": {
    "name": "ipython",
    "version": 3
   },
   "file_extension": ".py",
   "mimetype": "text/x-python",
   "name": "python",
   "nbconvert_exporter": "python",
   "pygments_lexer": "ipython3",
   "version": "3.9.12"
  }
 },
 "nbformat": 4,
 "nbformat_minor": 5
}
