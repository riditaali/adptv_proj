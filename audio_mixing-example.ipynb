{
 "cells": [
  {
   "cell_type": "code",
   "execution_count": 1,
   "id": "c346672a",
   "metadata": {},
   "outputs": [],
   "source": [
    "from pydub import AudioSegment\n",
    "from pydub.playback import play"
   ]
  },
  {
   "cell_type": "code",
   "execution_count": 2,
   "id": "403ba42f",
   "metadata": {},
   "outputs": [],
   "source": [
    "wav_file_1 = AudioSegment.from_file(\"example1.wav\")\n",
    "wav_file_2 = AudioSegment.from_file(\"example2.wav\")\n",
    "wav_file_chop = AudioSegment.from_file(\"chopping-meat.wav\")\n",
    "wav_file_vacclean = AudioSegment.from_file(\"vacuumcleaner.wav\")\n",
    "wav_file_washmac = AudioSegment.from_file(\"washing-machine.wav\")"
   ]
  },
  {
   "cell_type": "markdown",
   "id": "6265e93c",
   "metadata": {},
   "source": [
    "##### adjusting gains"
   ]
  },
  {
   "cell_type": "code",
   "execution_count": null,
   "id": "0e97551d",
   "metadata": {},
   "outputs": [],
   "source": [
    "### make sound1 louder by 3.5 dB\n",
    "#louder_via_method = sound1.apply_gain(+3.5)\n",
    "#quieter_via_method = sound1.apply_gain(-5.7)\n",
    "\n",
    "### make sound1 quieter by 5.7 dB\n",
    "#louder_via_operator = sound1 + 3.5\n",
    "#quieter_via_operator = sound1 - 5.7"
   ]
  },
  {
   "cell_type": "code",
   "execution_count": 3,
   "id": "1f1326c7",
   "metadata": {},
   "outputs": [],
   "source": [
    "#background sound quieter\n",
    "\n",
    "quieter_chop = wav_file_chop - 6.0\n",
    "quieter_vacclean = wav_file_vacclean - 6.0\n",
    "quieter_washmac = wav_file_washmac - 6.0"
   ]
  },
  {
   "cell_type": "code",
   "execution_count": 4,
   "id": "4e7b7f77",
   "metadata": {},
   "outputs": [],
   "source": [
    "# sound1 25 dB louder\n",
    "louder_example1 = wav_file_1 + 25\n",
    "louder_example2 = wav_file_2 + 25"
   ]
  },
  {
   "cell_type": "code",
   "execution_count": 6,
   "id": "11a51edd",
   "metadata": {},
   "outputs": [],
   "source": [
    "combined1 = louder_example1.overlay(quieter_chop, position=5000)\n",
    "combined2 = louder_example2.overlay(quieter_vacclean, position=5000)"
   ]
  },
  {
   "cell_type": "code",
   "execution_count": 8,
   "id": "70ab64b2",
   "metadata": {},
   "outputs": [
    {
     "data": {
      "text/plain": [
       "<_io.BufferedRandom name='ft2vacclean.wav'>"
      ]
     },
     "execution_count": 8,
     "metadata": {},
     "output_type": "execute_result"
    }
   ],
   "source": [
    "combined1.export(\"exmp1chop.wav\", format='wav')"
   ]
  },
  {
   "cell_type": "code",
   "execution_count": null,
   "id": "fec63d0c",
   "metadata": {},
   "outputs": [],
   "source": [
    "combined2.export(\"exmp2vacclean.wav\", format='wav')"
   ]
  }
 ],
 "metadata": {
  "kernelspec": {
   "display_name": "Python 3 (ipykernel)",
   "language": "python",
   "name": "python3"
  },
  "language_info": {
   "codemirror_mode": {
    "name": "ipython",
    "version": 3
   },
   "file_extension": ".py",
   "mimetype": "text/x-python",
   "name": "python",
   "nbconvert_exporter": "python",
   "pygments_lexer": "ipython3",
   "version": "3.9.12"
  }
 },
 "nbformat": 4,
 "nbformat_minor": 5
}
