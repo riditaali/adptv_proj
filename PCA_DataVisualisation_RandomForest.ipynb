{
 "cells": [
  {
   "cell_type": "markdown",
   "id": "unlikely-korean",
   "metadata": {},
   "source": [
    "# Principle Component Analysis (PCA) for Data Visualization"
   ]
  },
  {
   "cell_type": "code",
   "execution_count": 1,
   "id": "supposed-cabinet",
   "metadata": {},
   "outputs": [],
   "source": [
    "#Imports\n",
    "\n",
    "import pandas as pd \n",
    "import numpy as np\n",
    "import matplotlib.pyplot as plt\n",
    "from sklearn.decomposition import PCA\n",
    "from sklearn.preprocessing import StandardScaler\n",
    "%matplotlib inline"
   ]
  },
  {
   "cell_type": "code",
   "execution_count": 2,
   "id": "completed-discretion",
   "metadata": {},
   "outputs": [
    {
     "data": {
      "text/plain": [
       "(239, 515)"
      ]
     },
     "execution_count": 2,
     "metadata": {},
     "output_type": "execute_result"
    }
   ],
   "source": [
    "#loading data\n",
    "\n",
    "datasets_train = pd.read_csv(\"C:/Users/fortn/train_data.csv\")\n",
    "datasets_train.shape\n",
    "\n",
    "datasets_test = pd.read_csv(\"C:/Users/fortn/valid_data.csv\")\n",
    "datasets_test.shape"
   ]
  },
  {
   "cell_type": "code",
   "execution_count": 3,
   "id": "animal-database",
   "metadata": {},
   "outputs": [
    {
     "data": {
      "text/plain": [
       "0      1\n",
       "1      1\n",
       "2      1\n",
       "3      1\n",
       "4      1\n",
       "      ..\n",
       "714    0\n",
       "715    0\n",
       "716    0\n",
       "717    0\n",
       "718    0\n",
       "Name: 1, Length: 719, dtype: int64"
      ]
     },
     "execution_count": 3,
     "metadata": {},
     "output_type": "execute_result"
    }
   ],
   "source": [
    "x_train = datasets_train.iloc[:, 0:514]\n",
    "x_train\n",
    "y_train = datasets_train.iloc[:,-1]\n",
    "y_train"
   ]
  },
  {
   "cell_type": "code",
   "execution_count": 4,
   "id": "homeless-converter",
   "metadata": {},
   "outputs": [
    {
     "data": {
      "text/plain": [
       "0      1\n",
       "1      1\n",
       "2      1\n",
       "3      1\n",
       "4      1\n",
       "      ..\n",
       "234    0\n",
       "235    0\n",
       "236    0\n",
       "237    0\n",
       "238    0\n",
       "Name: 1, Length: 239, dtype: int64"
      ]
     },
     "execution_count": 4,
     "metadata": {},
     "output_type": "execute_result"
    }
   ],
   "source": [
    "x_test = datasets_test.iloc[:, 0:514]\n",
    "x_test\n",
    "y_test = datasets_test.iloc[:,-1]\n",
    "y_test"
   ]
  },
  {
   "cell_type": "markdown",
   "id": "unable-cookie",
   "metadata": {},
   "source": [
    "# Standardize the Data\n",
    "\"\"\"\n",
    "Since PCA yields a feature subspace that maximizes the variance along the axes, it makes sense to standardize the data,\n",
    "especially, if it was measured on different scales. Although, all features in the Iris dataset were measured in centimeters,\n",
    "let us continue with the transformation of the data onto unit scale (mean=0 and variance=1),\n",
    "which is a requirement for the optimal performance of many machine learning algorithms.\n",
    "\"\"\""
   ]
  },
  {
   "cell_type": "code",
   "execution_count": 5,
   "id": "improving-economics",
   "metadata": {},
   "outputs": [],
   "source": [
    "scaler = StandardScaler().fit(x_train)\n",
    "x_train_st= scaler.transform(x_train)\n",
    "x_test_st = scaler.transform(x_test)"
   ]
  },
  {
   "cell_type": "markdown",
   "id": "entitled-guyana",
   "metadata": {},
   "source": [
    "# PCA Projection to 2D"
   ]
  },
  {
   "cell_type": "code",
   "execution_count": 6,
   "id": "aerial-consensus",
   "metadata": {},
   "outputs": [],
   "source": [
    "pca = PCA(n_components=7)"
   ]
  },
  {
   "cell_type": "code",
   "execution_count": 7,
   "id": "demonstrated-pittsburgh",
   "metadata": {},
   "outputs": [],
   "source": [
    "x_train_pca = pca.fit_transform(x_train_st)\n",
    "x_test_pca = pca.transform(x_test_st)"
   ]
  },
  {
   "cell_type": "code",
   "execution_count": 8,
   "id": "straight-health",
   "metadata": {},
   "outputs": [
    {
     "name": "stdout",
     "output_type": "stream",
     "text": [
      "(719, 514)\n",
      "(719, 7)\n",
      "(239, 514)\n",
      "(239, 7)\n"
     ]
    }
   ],
   "source": [
    "print(x_train.shape)\n",
    "print(x_train_pca.shape)\n",
    "print(x_test.shape)\n",
    "print(x_test_pca.shape)"
   ]
  },
  {
   "cell_type": "code",
   "execution_count": 9,
   "id": "posted-macedonia",
   "metadata": {},
   "outputs": [
    {
     "data": {
      "text/plain": [
       "array([0.71676102, 0.11419757, 0.05090892, 0.04139264, 0.01309308,\n",
       "       0.01049111, 0.00800012])"
      ]
     },
     "execution_count": 9,
     "metadata": {},
     "output_type": "execute_result"
    }
   ],
   "source": [
    "explained_variance = pca.explained_variance_ratio_\n",
    "explained_variance"
   ]
  },
  {
   "cell_type": "code",
   "execution_count": null,
   "id": "diverse-uganda",
   "metadata": {},
   "outputs": [],
   "source": [
    "\"\"\"\n",
    "It can be seen that first principal component is responsible for 71.68% variance.\n",
    "Similarly, the second principal component causes 11.42% variance in the dataset.\n",
    "Collectively we can say that (71.68 + 11.42) 83.1% percent of the classification information contained in the feature set is captured by the first two principal components.\n",
    "\"\"\""
   ]
  },
  {
   "cell_type": "code",
   "execution_count": null,
   "id": "configured-minneapolis",
   "metadata": {},
   "outputs": [],
   "source": [
    "###Training and Making Predictions\n",
    "\n",
    "#In this case, we'll use random forest classification for making the predictions."
   ]
  },
  {
   "cell_type": "code",
   "execution_count": 10,
   "id": "canadian-donor",
   "metadata": {},
   "outputs": [],
   "source": [
    "from sklearn.ensemble import RandomForestClassifier"
   ]
  },
  {
   "cell_type": "code",
   "execution_count": 12,
   "id": "hired-stretch",
   "metadata": {},
   "outputs": [
    {
     "data": {
      "text/plain": [
       "RandomForestClassifier(max_depth=2, random_state=0)"
      ]
     },
     "execution_count": 12,
     "metadata": {},
     "output_type": "execute_result"
    }
   ],
   "source": [
    "classifier = RandomForestClassifier(max_depth=2, random_state=0)\n",
    "classifier.fit(x_train_pca, y_train)"
   ]
  },
  {
   "cell_type": "code",
   "execution_count": 13,
   "id": "sought-insulin",
   "metadata": {},
   "outputs": [],
   "source": [
    "# Predicting the Test set results\n",
    "y_pred = classifier.predict(x_test_pca)"
   ]
  },
  {
   "cell_type": "code",
   "execution_count": null,
   "id": "transparent-forty",
   "metadata": {},
   "outputs": [],
   "source": [
    "#Performance Evaluation"
   ]
  },
  {
   "cell_type": "code",
   "execution_count": 14,
   "id": "disabled-local",
   "metadata": {},
   "outputs": [],
   "source": [
    "from sklearn.metrics import confusion_matrix\n",
    "from sklearn.metrics import accuracy_score"
   ]
  },
  {
   "cell_type": "code",
   "execution_count": 15,
   "id": "interracial-inflation",
   "metadata": {},
   "outputs": [
    {
     "name": "stdout",
     "output_type": "stream",
     "text": [
      "[[174   0]\n",
      " [ 35  30]]\n"
     ]
    }
   ],
   "source": [
    "cm = confusion_matrix(y_test, y_pred)\n",
    "print(cm)"
   ]
  },
  {
   "cell_type": "code",
   "execution_count": 16,
   "id": "thousand-pearl",
   "metadata": {},
   "outputs": [
    {
     "name": "stdout",
     "output_type": "stream",
     "text": [
      "Accuracy:  0.8535564853556485\n"
     ]
    }
   ],
   "source": [
    "print('Accuracy: ', accuracy_score(y_test, y_pred))"
   ]
  },
  {
   "cell_type": "code",
   "execution_count": null,
   "id": "ceramic-blast",
   "metadata": {},
   "outputs": [],
   "source": []
  }
 ],
 "metadata": {
  "kernelspec": {
   "display_name": "Python 3",
   "language": "python",
   "name": "python3"
  },
  "language_info": {
   "codemirror_mode": {
    "name": "ipython",
    "version": 3
   },
   "file_extension": ".py",
   "mimetype": "text/x-python",
   "name": "python",
   "nbconvert_exporter": "python",
   "pygments_lexer": "ipython3",
   "version": "3.8.5"
  }
 },
 "nbformat": 4,
 "nbformat_minor": 5
}
